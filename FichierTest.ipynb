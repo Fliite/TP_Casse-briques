{
 "cells": [
  {
   "cell_type": "markdown",
   "id": "a4d30184",
   "metadata": {},
   "source": [
    "# Fichier test des fonction pour casse briques"
   ]
  },
  {
   "cell_type": "code",
   "execution_count": 1,
   "id": "9b7c95a2",
   "metadata": {},
   "outputs": [
    {
     "name": "stdout",
     "output_type": "stream",
     "text": [
      "Hello, World!\n"
     ]
    }
   ],
   "source": [
    "def code():\n",
    "    print(\"Hello, World!\")\n",
    "\n",
    "code()"
   ]
  },
  {
   "cell_type": "code",
   "execution_count": null,
   "id": "65bbb0f9",
   "metadata": {},
   "outputs": [],
   "source": [
    "        def _create_bricks(self):\n",
    "            cols, rows = 10, 6         # 10 colonnes, 6 lignes\n",
    "            pad = 12                   # marge entre briques\n",
    "            top = 60                   # décalage du haut\n",
    "            bL, bH = 100, 24          # largeur/hauteur brique\n",
    "\n",
    "            start_x = (W - (cols*bL + (cols-1)*pad)) // 2  # centrer le mur\n",
    "\n",
    "            for r in range(rows):\n",
    "                for c in range(cols):\n",
    "                    x = start_x + c*(bL + pad)\n",
    "                    y = top     + r*(bH + pad)\n",
    "                    b = Brique()\n",
    "                    b.set_position(x, y)\n",
    "                    b.draw(self.canvas)\n",
    "                    self.briques.append(b)"
   ]
  }
 ],
 "metadata": {
  "kernelspec": {
   "display_name": "env_msi",
   "language": "python",
   "name": "python3"
  },
  "language_info": {
   "codemirror_mode": {
    "name": "ipython",
    "version": 3
   },
   "file_extension": ".py",
   "mimetype": "text/x-python",
   "name": "python",
   "nbconvert_exporter": "python",
   "pygments_lexer": "ipython3",
   "version": "3.11.9"
  }
 },
 "nbformat": 4,
 "nbformat_minor": 5
}
